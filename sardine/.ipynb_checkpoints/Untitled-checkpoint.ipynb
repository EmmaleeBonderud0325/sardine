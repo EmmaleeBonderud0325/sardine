{
 "cells": [
  {
   "cell_type": "markdown",
   "id": "548ceb3d",
   "metadata": {},
   "source": [
    "# Sardine for Jupyter Notebook\n",
    "\n",
    "Sardine doesn't work outside of the `python3 -m asyncio` environment. There is currently no way of getting it to run on a Jupyter Notebook or inside a IPython session. This is hard to accept. A fix need to be found!"
   ]
  },
  {
   "cell_type": "code",
   "execution_count": 1,
   "id": "32e1adea",
   "metadata": {},
   "outputs": [
    {
     "data": {
      "text/plain": [
       "['/Users/bubo/sardine/sardine',\n",
       " '/usr/local/Cellar/python@3.9/3.9.13_1/Frameworks/Python.framework/Versions/3.9/lib/python39.zip',\n",
       " '/usr/local/Cellar/python@3.9/3.9.13_1/Frameworks/Python.framework/Versions/3.9/lib/python3.9',\n",
       " '/usr/local/Cellar/python@3.9/3.9.13_1/Frameworks/Python.framework/Versions/3.9/lib/python3.9/lib-dynload',\n",
       " '',\n",
       " '/Users/bubo/Library/Python/3.9/lib/python/site-packages',\n",
       " '/usr/local/lib/python3.9/site-packages',\n",
       " '/Users/bubo/LinkToPy',\n",
       " '/Users/bubo/FoxDot',\n",
       " '/Users/bubo/sonic_pipe',\n",
       " '/usr/local/opt/python-tk@3.9/libexec',\n",
       " '/usr/local/lib/python3.9/site-packages/IPython/extensions',\n",
       " '/Users/bubo/.ipython',\n",
       " '/Users/bubo/sardine/']"
      ]
     },
     "execution_count": 1,
     "metadata": {},
     "output_type": "execute_result"
    }
   ],
   "source": [
    "import sys\n",
    "sys.path.append(\"/Users/bubo/sardine/\")\n",
    "sys.path"
   ]
  },
  {
   "cell_type": "code",
   "execution_count": 2,
   "id": "28f7a41d",
   "metadata": {},
   "outputs": [],
   "source": [
    "from sardine import *"
   ]
  },
  {
   "cell_type": "code",
   "execution_count": 23,
   "id": "23088dd3",
   "metadata": {},
   "outputs": [
    {
     "ename": "NameError",
     "evalue": "name 'sardine' is not defined",
     "output_type": "error",
     "traceback": [
      "\u001b[0;31m---------------------------------------------------------------------------\u001b[0m",
      "\u001b[0;31mNameError\u001b[0m                                 Traceback (most recent call last)",
      "\u001b[0;32m/var/folders/zq/nwpwzg_s2rq87xq7zggqfvhw0000gn/T/ipykernel_17150/3557843151.py\u001b[0m in \u001b[0;36m<module>\u001b[0;34m\u001b[0m\n\u001b[0;32m----> 1\u001b[0;31m \u001b[0msardine\u001b[0m\u001b[0;34m\u001b[0m\u001b[0;34m\u001b[0m\u001b[0m\n\u001b[0m",
      "\u001b[0;31mNameError\u001b[0m: name 'sardine' is not defined"
     ]
    }
   ],
   "source": [
    "sardine"
   ]
  }
 ],
 "metadata": {
  "kernelspec": {
   "display_name": "Python 3 (ipykernel)",
   "language": "python",
   "name": "python3"
  },
  "language_info": {
   "codemirror_mode": {
    "name": "ipython",
    "version": 3
   },
   "file_extension": ".py",
   "mimetype": "text/x-python",
   "name": "python",
   "nbconvert_exporter": "python",
   "pygments_lexer": "ipython3",
   "version": "3.9.13"
  }
 },
 "nbformat": 4,
 "nbformat_minor": 5
}
